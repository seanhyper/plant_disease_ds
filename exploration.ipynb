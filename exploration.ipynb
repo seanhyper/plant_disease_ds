{
 "cells": [
  {
   "cell_type": "code",
   "execution_count": null,
   "metadata": {
    "pycharm": {
     "name": "#%%\n"
    }
   },
   "outputs": [],
   "source": [
    "import os\n",
    "import cv2\n",
    "import numpy as np\n",
    "import matplotlib.pyplot as plt\n"
   ]
  },
  {
   "cell_type": "code",
   "execution_count": null,
   "metadata": {
    "collapsed": false,
    "jupyter": {
     "outputs_hidden": false
    },
    "pycharm": {
     "name": "#%%\n"
    }
   },
   "outputs": [],
   "source": [
    "\n",
    "# Path to the dataset directory\n",
    "dataset_dir = 'data/PlantVillage/'\n",
    "\n",
    "# Function to load images and labels using OpenCV\n",
    "def load_dataset(dataset_path):\n",
    "    data_dict = {}\n",
    "    # Walk through the dataset directory\n",
    "    for root, dirs, files in os.walk(dataset_path):\n",
    "        for dir_name in dirs:\n",
    "            # Initialize an empty list for each subfolder\n",
    "            data_dict[dir_name] = []\n",
    "\n",
    "            # Get the full path to the subfolder\n",
    "            subfolder_path = os.path.join(root, dir_name)\n",
    "\n",
    "            # Iterate through the files in the subfolder\n",
    "            for file in os.listdir(subfolder_path):\n",
    "                if file.lower().endswith(('.png', '.jpg', '.jpeg')):\n",
    "                    # Construct the full path to the image\n",
    "                    image_path = os.path.join(subfolder_path, file)\n",
    "\n",
    "                    # Load the image using OpenCV\n",
    "                    image = cv2.imread(image_path)\n",
    "                    # Convert from BGR to RGB color space\n",
    "                    image = cv2.cvtColor(image, cv2.COLOR_BGR2RGB)\n",
    "\n",
    "                    # Append the image to the list associated with the subfolder name\n",
    "                    data_dict[dir_name].append(image)\n",
    "\n",
    "    return data_dict\n",
    "\n",
    "# Load your dataset\n",
    "data_dict = load_dataset(dataset_dir)\n",
    "\n",
    "# Print the number of images in each subfolder\n",
    "for key, value in data_dict.items():\n",
    "    print(f\"Found {len(value)} images in folder '{key}'\")\n"
   ]
  },
  {
   "cell_type": "code",
   "execution_count": null,
   "metadata": {},
   "outputs": [],
   "source": [
    "for label, images in data_dict.items():\n",
    "    plt.figure(figsize=(5, 5))\n",
    "    plt.imshow(images[0])  # Display the first image of each class\n",
    "    plt.title(label)\n",
    "    plt.axis('off')\n",
    "    plt.show()"
   ]
  },
  {
   "cell_type": "code",
   "execution_count": null,
   "metadata": {},
   "outputs": [],
   "source": [
    "import matplotlib.pyplot as plt\n",
    "\n",
    "# Count the number of images in each subfolder\n",
    "class_counts = {key: len(value) for key, value in data_dict.items()}\n",
    "\n",
    "# Plot the class distribution\n",
    "plt.figure(figsize=(10, 6))\n",
    "plt.bar(class_counts.keys(), class_counts.values())\n",
    "plt.xlabel('Classes')\n",
    "plt.ylabel('Number of Images')\n",
    "plt.title('Class Distribution')\n",
    "plt.xticks(rotation=45, ha='right')\n",
    "plt.tight_layout()\n",
    "plt.show()\n"
   ]
  },
  {
   "cell_type": "code",
   "execution_count": null,
   "metadata": {},
   "outputs": [],
   "source": [
    "class_counts"
   ]
  },
  {
   "cell_type": "code",
   "execution_count": null,
   "metadata": {},
   "outputs": [],
   "source": []
  }
 ],
 "metadata": {
  "kernelspec": {
   "display_name": "Python 3 (ipykernel)",
   "language": "python",
   "name": "python3"
  },
  "language_info": {
   "codemirror_mode": {
    "name": "ipython",
    "version": 3
   },
   "file_extension": ".py",
   "mimetype": "text/x-python",
   "name": "python",
   "nbconvert_exporter": "python",
   "pygments_lexer": "ipython3",
   "version": "3.11.5"
  }
 },
 "nbformat": 4,
 "nbformat_minor": 4
}
