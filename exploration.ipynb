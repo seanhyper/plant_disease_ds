{
 "cells": [
  {
   "cell_type": "code",
   "execution_count": null,
   "metadata": {
    "pycharm": {
     "name": "#%%\n"
    }
   },
   "outputs": [],
   "source": []
  },
  {
   "cell_type": "code",
   "execution_count": 1,
   "metadata": {
    "collapsed": false,
    "jupyter": {
     "outputs_hidden": false
    },
    "pycharm": {
     "name": "#%%\n"
    }
   },
   "outputs": [
    {
     "name": "stdout",
     "output_type": "stream",
     "text": [
      "Loaded 0 images\n",
      "Found labels: set()\n"
     ]
    }
   ],
   "source": [
    "import os\n",
    "import cv2\n",
    "import numpy as np\n",
    "\n",
    "# Path to the dataset directory\n",
    "dataset_dir = '/Users/seanlavi/dev/plant_disease_ds/data/PlantVillage'\n",
    "\n",
    "# Function to load images and labels using OpenCV\n",
    "def load_dataset(dataset_path):\n",
    "    images = []\n",
    "    labels = []\n",
    "\n",
    "    # Walk through the dataset directory\n",
    "    for root, dirs, files in os.walk(dataset_path):\n",
    "        for file in files:\n",
    "            if file.lower().endswith(('.png', '.jpg', '.jpeg')):\n",
    "                # Construct the full path to the image\n",
    "                image_path = os.path.join(root, file)\n",
    "\n",
    "                # Load the image using OpenCV\n",
    "                image = cv2.imread(image_path)\n",
    "                # Convert from BGR to RGB color space\n",
    "                image = cv2.cvtColor(image, cv2.COLOR_BGR2RGB)\n",
    "\n",
    "                # Extract the label from the directory name\n",
    "                label = os.path.basename(root).split('__')[1]\n",
    "\n",
    "                # Append to lists\n",
    "                images.append(image)\n",
    "                labels.append(label)\n",
    "\n",
    "    return images, labels\n",
    "\n",
    "# Load your dataset\n",
    "images, labels = load_dataset(dataset_dir)\n",
    "\n",
    "print(f\"Loaded {len(images)} images\")\n",
    "print(f\"Found labels: {set(labels)}\")"
   ]
  },
  {
   "cell_type": "code",
   "execution_count": null,
   "metadata": {
    "collapsed": false,
    "jupyter": {
     "outputs_hidden": false
    },
    "pycharm": {
     "name": "#%%\n"
    }
   },
   "outputs": [],
   "source": []
  }
 ],
 "metadata": {
  "kernelspec": {
   "display_name": "Python 3 (ipykernel)",
   "language": "python",
   "name": "python3"
  },
  "language_info": {
   "codemirror_mode": {
    "name": "ipython",
    "version": 3
   },
   "file_extension": ".py",
   "mimetype": "text/x-python",
   "name": "python",
   "nbconvert_exporter": "python",
   "pygments_lexer": "ipython3",
   "version": "3.10.6"
  }
 },
 "nbformat": 4,
 "nbformat_minor": 4
}